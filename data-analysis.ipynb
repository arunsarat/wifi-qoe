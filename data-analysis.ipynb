{
 "cells": [
  {
   "cell_type": "markdown",
   "id": "2de0d3aa-1712-47cc-8e91-b07da4fe675c",
   "metadata": {},
   "source": [
    "#### Utility Method\n",
    "This method returns a sorted pairs of correlated features, by flattening the correlation matrix."
   ]
  },
  {
   "cell_type": "code",
   "execution_count": 25,
   "id": "c392e4c9-82b1-4b98-b3fe-99c45194fcae",
   "metadata": {},
   "outputs": [],
   "source": [
    "def get_correlation (df):\n",
    "    # Compute the correlation matrix\n",
    "    corr_matrix = df.select_dtypes(include=['number']).corr()\n",
    "\n",
    "    # Unstack the correlation matrix into a DataFrame of column pairs\n",
    "    corr_pairs = corr_matrix.unstack()\n",
    "\n",
    "    # Drop the diagonal elements (correlation of a column with itself)\n",
    "    corr_pairs = corr_pairs[corr_pairs.index.get_level_values(0) != corr_pairs.index.get_level_values(1)]\n",
    "\n",
    "    # Sort the pairs by absolute correlation value in descending order\n",
    "    return corr_pairs.abs().sort_values(ascending=False)"
   ]
  },
  {
   "cell_type": "markdown",
   "id": "ca08e06e-3a7f-4d39-9d8a-f9bf41deb67d",
   "metadata": {},
   "source": [
    "This method utilizes GridSearchCV method to train and tune the hyper parameters of a model and optimize the model by minimizing the mean squared error. It returns the training duration and optimized model after training."
   ]
  },
  {
   "cell_type": "code",
   "execution_count": 62,
   "id": "a91019d6-7359-481e-90f9-21e39193a5cf",
   "metadata": {},
   "outputs": [],
   "source": [
    "def train_and_validate_model(pipe, params, X_train, X_test, y_train, y_test):\n",
    "    grid_search = GridSearchCV(pipe, param_grid= params, cv=5)\n",
    "\n",
    "    # Fit GridSearchCV to the training data\n",
    "    start_time = time.time()\n",
    "    grid_search.fit(X_train, y_train)\n",
    "    duration = time.time() - start_time\n",
    "\n",
    "    print(f'## Regressor: {grid_search.best_estimator_.named_steps['regressor']} Training Report ##')\n",
    "    print(\"Training time: \", duration, \"seconds\")\n",
    "    print(\"Best Parameters: \", grid_search.best_params_)\n",
    "    print(\"Best training Accuracy:\", grid_search.best_score_)\n",
    "\n",
    "    # Test the model on the test set\n",
    "    test_score = grid_search.score(X_test, y_test)\n",
    "    print(\"Test Set Accuracy:\", test_score)\n",
    "\n",
    "    return grid_search, duration"
   ]
  },
  {
   "cell_type": "markdown",
   "id": "16ef91e0-d576-4ab9-a955-8f9b4fd2b0eb",
   "metadata": {},
   "source": [
    "This method takes already split train and testing data and trains a set of models like Linear regression, Ridge regression and Lasso regression and evalutes the accuracy and performance of these models. "
   ]
  },
  {
   "cell_type": "code",
   "execution_count": 27,
   "id": "b1305f3f-4fc9-4160-8a6f-c9c010a3e512",
   "metadata": {},
   "outputs": [],
   "source": [
    "def validate_models(X_train, X_test, y_train, y_test):\n",
    "  # Define MSE scorer\n",
    "  mse_scorer = make_scorer(mean_squared_error, greater_is_better=False)\n",
    "\n",
    "  # Define models to compare\n",
    "  models = {\n",
    "    'LinearRegression': LinearRegression(),\n",
    "    'Ridge': Ridge(),\n",
    "    'Lasso': Lasso()\n",
    "  }\n",
    "\n",
    "  # Define parameter grids for each model\n",
    "  param_grids = {\n",
    "    'LinearRegression': {\n",
    "        'poly__degree': [1, 2],\n",
    "        'regressor__fit_intercept': [True, False]\n",
    "    },\n",
    "    'Ridge': {\n",
    "        'poly__degree': [1, 2],\n",
    "        'regressor__alpha': [0.1, 1.0, 10.0],\n",
    "        'regressor__fit_intercept': [True, False]\n",
    "    },\n",
    "    'Lasso': {\n",
    "        'poly__degree': [1, 2],\n",
    "        'regressor__alpha': [0.1, 0.5, 1.0],\n",
    "        'regressor__fit_intercept': [True, False]\n",
    "    }\n",
    "  }\n",
    "\n",
    "  # Loop over models and parameter grids\n",
    "  results = []\n",
    "  for model_name, model in models.items():\n",
    "    print(f\"\\nRunning GridSearchCV for {model_name}...\")\n",
    "\n",
    "    # Define a pipeline with StandardScaler, PolynomialFeatures, and the model\n",
    "    pipeline = Pipeline([\n",
    "        ('poly', PolynomialFeatures()),      # Polynomial features\n",
    "        ('regressor', model)                 # Regression model (will vary)\n",
    "    ])\n",
    "\n",
    "    # Set up GridSearchCV\n",
    "    grid_search = GridSearchCV(pipeline, param_grids[model_name], cv=5, scoring=mse_scorer, return_train_score=True)\n",
    "\n",
    "    # Fit GridSearchCV\n",
    "    grid_search.fit(X_train, y_train.ravel())\n",
    "\n",
    "    # Store results\n",
    "    cv_results = pd.DataFrame(grid_search.cv_results_)\n",
    "    cv_results['model'] = model_name  # Add model name to results\n",
    "    results.append(cv_results)\n",
    "\n",
    "  # Concatenate all results for comparison\n",
    "  results_df = pd.concat(results, ignore_index=True)\n",
    "\n",
    "  # Select important columns for comparison\n",
    "  comparison_columns = [\n",
    "    'model', 'param_poly__degree', 'param_regressor__fit_intercept', 'param_regressor__alpha',\n",
    "    'mean_test_score', 'std_test_score', 'mean_train_score'\n",
    "  ]\n",
    "\n",
    "  # Display the results sorted by mean test score (MSE)\n",
    "  #print(\"\\nComparison of MSE between different models:\")\n",
    "  #print(results_df[comparison_columns].sort_values(by='mean_test_score',       ascending=True))\n",
    "  return results_df"
   ]
  }
 ],
 "metadata": {
  "kernelspec": {
   "display_name": "Python 3 (ipykernel)",
   "language": "python",
   "name": "python3"
  },
  "language_info": {
   "codemirror_mode": {
    "name": "ipython",
    "version": 3
   },
   "file_extension": ".py",
   "mimetype": "text/x-python",
   "name": "python",
   "nbconvert_exporter": "python",
   "pygments_lexer": "ipython3",
   "version": "3.12.4"
  }
 },
 "nbformat": 4,
 "nbformat_minor": 5
}
