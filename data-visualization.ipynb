{
 "cells": [
  {
   "cell_type": "markdown",
   "id": "52e998fa-6600-40fc-84b6-18f2ac5d8abe",
   "metadata": {},
   "source": [
    "This method plots takes training data, test data and trained model as input and creates a data frame that captures mear error (difference between predicted and actual values), percentage error average (average of percent of error) and also the standard deviation of these errors. \n",
    "\n",
    "It also plots histogram plot of the error and percentage error distribution. "
   ]
  },
  {
   "cell_type": "code",
   "execution_count": 28,
   "id": "6442507d-8e73-47bc-9c43-6d90a6922d80",
   "metadata": {},
   "outputs": [],
   "source": [
    "def plot_erro_dist(grid, X_train, X_test, y_train, y_test):\n",
    "    best_nf = grid.best_estimator_\n",
    "    X_df = pd.concat([pd.DataFrame({'predict': best_nf.predict(X_test), 'actual': y_test, 'tag': \"test\"}),\n",
    "                      pd.DataFrame({'predict': best_nf.predict(X_train), 'actual': y_train, 'tag': \"train\"})])\n",
    "    X_df = X_df.assign(\n",
    "        error = lambda x: abs(x['predict'] - x['actual']),\n",
    "        p_error = lambda x: x['error'].div(x['actual'])\n",
    "    )\n",
    "    \n",
    "    # Compute Errors Metrics.\n",
    "    error_mean = X_df.query('tag == \"test\"')['error'].mean()\n",
    "    error_std = X_df.query('tag == \"test\"')['error'].std()\n",
    "    print(f\"error mean = {error_mean: 0.2f}, error std = {error_std: 0.2f}\")\n",
    "    p_error_mean = X_df.query('tag == \"test\"')['p_error'].mean()\n",
    "    p_error_std = X_df.query('tag == \"test\"')['p_error'].std()\n",
    "    print(f\"p_error mean = {p_error_mean: 0.2%}, p_error std = {p_error_std: 0.2%}\")\n",
    "    mape = X_df['p_error'].abs().mean()\n",
    "    wape = X_df['error'].abs().sum() / X_df['actual'].abs().sum()\n",
    "\n",
    "    try:\n",
    "        # Define plot grid.\n",
    "        fig, axs = plt.subplots(1, 2, figsize=(10, 5))\n",
    "    \n",
    "        sns.set_style(\n",
    "            style='darkgrid',\n",
    "            rc={'axes.facecolor': '.9', 'grid.color': '.8'}\n",
    "        )\n",
    "        sns.set_palette(palette='deep')\n",
    "        sns_c = sns.color_palette(palette='deep')\n",
    "    \n",
    "        # Add data.\n",
    "        sns.histplot(data=X_df['error'], bins=100, color=sns_c[0], kde=True, ax=axs[0])\n",
    "        axs[0].axvline(x=error_mean, color=sns_c[0], linestyle='--', label=f'error mean = {error_mean: 0.2f}', alpha=0.8)\n",
    "        axs[0].axvline(x=error_mean + 2*error_std, color=sns_c[0], linestyle='--', alpha=0.5)\n",
    "        axs[0].axvline(x=error_mean - 2*error_std, color=sns_c[0], linestyle='--', alpha=0.5)\n",
    "    \n",
    "        sns.histplot(data=X_df['p_error'], bins = 100, color=sns_c[3], kde=True, ax=axs[1])\n",
    "        axs[1].axvline(x=p_error_mean , color=sns_c[3], linestyle='--', label=f'p_error mean = {p_error_mean: 0.2%}', alpha=0.8)\n",
    "        axs[1].axvline(x=p_error_mean + 2*p_error_std, color=sns_c[3], linestyle='--', alpha=0.5)\n",
    "        axs[1].axvline(x=p_error_mean - 2*p_error_std, color=sns_c[3], linestyle='--', alpha=0.5)\n",
    "    \n",
    "        axs[0].set(title='Absolute')\n",
    "        axs[1].set(title='Percentage')]\n",
    "        \n",
    "        plt.suptitle(f'Linear Model Errors Distribution', y=0.94);\n",
    "    \n",
    "        # Adjust layout for better spacing\n",
    "        plt.tight_layout()\n",
    "    \n",
    "        # Show the plots\n",
    "        plt.show()\n",
    "    except Exception as e:\n",
    "        # Catch the exception and print detailed information\n",
    "        print(f\"An error occurred: {e}\")  # Print the error message\n",
    "        print(f\"Exception type: {type(e).__name__}\")  # Print the type of the exception\n",
    "        return error_mean, p_error_mean, error_std, p_error_std\n",
    "        \n",
    "    return error_mean, p_error_mean, error_std, p_error_std\n",
    "    "
   ]
  },
  {
   "cell_type": "code",
   "execution_count": 29,
   "id": "a0c0a825-4964-419b-abbd-242528951fcf",
   "metadata": {},
   "outputs": [],
   "source": [
    "def plot_correlation_matrix (df):\n",
    "    plt.figure(figsize=(12, 10))  # Set the figure size\n",
    "    sns.heatmap(corr_matrix, cmap='coolwarm', linewidths=0.5)\n",
    "    #sns.heatmap(df.corr(), cmap=sns.cubehelix_palette(as_cmap=True))\n",
    "    #sns.heatmap(corr_matrix, cmap='crest')\n",
    "\n",
    "    # Add a title\n",
    "    plt.title('Correlation Heatmap')\n",
    "\n",
    "    # Show the plot\n",
    "    plt.show()"
   ]
  },
  {
   "cell_type": "markdown",
   "id": "0e2f1484-3b3c-4cbf-88b1-3a9b07a64b81",
   "metadata": {},
   "source": [
    "This method two line plots WiFi Retries vs activity and 'activity' vs MOS score."
   ]
  },
  {
   "cell_type": "code",
   "execution_count": 30,
   "id": "581f79bd-0ae6-4d25-b6f4-86f6ffabce32",
   "metadata": {},
   "outputs": [],
   "source": [
    "def plot_kpis(data):\n",
    "    fig, axes = plt.subplots(2, 2, figsize=(10, 8))\n",
    "    \n",
    "    sns.scatterplot(data=data.query('`wifi retries` < 200000'), x='wifi retries', y='activity', ax=axes[0, 0])\n",
    "    axes[0, 0].set_title('Scatter: WiFi Retries vs WiFi Utilization')\n",
    "\n",
    "    bins = pd.cut(data.query('`wifi retries` < 200000')['wifi retries'], bins=3, labels=['Low', 'Medium', 'High'])\n",
    "    sns.scatterplot(data=data.query('`wifi retries` < 200000'), x='wifi retries', y='activity', hue = bins, ax=axes[0, 1])\n",
    "    axes[0, 1].set_title('Scatter: WiFi Retries vs activity (with low-high bins)')\n",
    "\n",
    "    grouped_activity = data.groupby('activity', as_index=False)['MOS'].mean()\n",
    "    sns.lineplot(data=grouped_activity, x='activity', y='MOS', ax = axes[1,0])\n",
    "    #sns.scatterplot(data = data, x = 'activity', y = 'MOS_x', ax = axes[1,0])\n",
    "    axes[1, 0].set_title('Scatter: WiFi activity vs MOS Score')\n",
    "\n",
    "    filtered_data = data.query('`wifi retries` < 25000')\n",
    "    filtered_data['retries'] = pd.cut(filtered_data['wifi retries'], bins=10, labels=['0', '1', '2', '3', '4', '5', '6', '7', '8', '9'])\n",
    "    grouped_retry = filtered_data.groupby('retries', observed=True)['MOS'].mean().reset_index()\n",
    "    sns.lineplot(data = grouped_retry, x = 'retries', y = 'MOS', marker='o', ax = axes[1,1])\n",
    "    axes[1, 1].set_title('Scatter: WiFi retries vs MOS Score')\n",
    "\n",
    "    # Adjust layout for better spacing\n",
    "    plt.tight_layout()\n",
    "\n",
    "    # Show the plots\n",
    "    plt.show()"
   ]
  }
 ],
 "metadata": {
  "kernelspec": {
   "display_name": "Python 3 (ipykernel)",
   "language": "python",
   "name": "python3"
  },
  "language_info": {
   "codemirror_mode": {
    "name": "ipython",
    "version": 3
   },
   "file_extension": ".py",
   "mimetype": "text/x-python",
   "name": "python",
   "nbconvert_exporter": "python",
   "pygments_lexer": "ipython3",
   "version": "3.12.4"
  }
 },
 "nbformat": 4,
 "nbformat_minor": 5
}
